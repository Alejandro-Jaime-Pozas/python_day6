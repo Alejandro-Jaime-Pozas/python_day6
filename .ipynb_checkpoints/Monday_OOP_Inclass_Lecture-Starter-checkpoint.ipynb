{
 "cells": [
  {
   "cell_type": "markdown",
   "metadata": {},
   "source": [
    "# Object-Oriented-Programming (OOP)"
   ]
  },
  {
   "cell_type": "markdown",
   "metadata": {},
   "source": [
    "## Tasks Today:\n",
    "\n",
    "   \n",
    "\n",
    "1) <b>Creating a Class (Initializing/Declaring)</b> <br>\n",
    "2) <b>Using a Class (Instantiating)</b> <br>\n",
    " &nbsp;&nbsp;&nbsp;&nbsp; a) Creating One Instance <br>\n",
    " &nbsp;&nbsp;&nbsp;&nbsp; b) Creating Multiple Instances <br>\n",
    " &nbsp;&nbsp;&nbsp;&nbsp; c) In-Class Exercise #1 - Create a Class 'Car' and instantiate three different makes of cars <br>\n",
    "3) <b>The \\__init\\__() Method</b> <br>\n",
    " &nbsp;&nbsp;&nbsp;&nbsp; a) The 'self' Attribute <br>\n",
    "4) <b>Class Attributes</b> <br>\n",
    " &nbsp;&nbsp;&nbsp;&nbsp; a) Initializing Attributes <br>\n",
    " &nbsp;&nbsp;&nbsp;&nbsp; b) Setting an Attribute Outside of the \\__init\\__() Method <br>\n",
    " &nbsp;&nbsp;&nbsp;&nbsp; c) Setting Defaults for Attributes <br>\n",
    " &nbsp;&nbsp;&nbsp;&nbsp; d) Accessing Class Attributes <br>\n",
    " &nbsp;&nbsp;&nbsp;&nbsp; e) Changing Class Attributes <br>\n",
    " &nbsp;&nbsp;&nbsp;&nbsp; f) In-Class Exercise #2 - Update your 'Car' class with \\__init\\__() method and class attributes<br>\n",
    "5) <b>Class Methods</b> <br>\n",
    " &nbsp;&nbsp;&nbsp;&nbsp; a) Creating <br>\n",
    " &nbsp;&nbsp;&nbsp;&nbsp; b) Calling <br>\n",
    " &nbsp;&nbsp;&nbsp;&nbsp; c) Modifying an Attribute's Value Through a Method <br>\n",
    " &nbsp;&nbsp;&nbsp;&nbsp; d) Incrementing an Attribute's Value Through a Method <br>\n",
    " &nbsp;&nbsp;&nbsp;&nbsp; e) In-Class Exercise #3 - Update Car class with new methods <br>\n",
    "6) <b>Classes as Attributes</b> <br>\n",
    "8) <b>Exercises</b> <br>\n",
    " &nbsp;&nbsp;&nbsp;&nbsp; a) Exercise #1 - Turn the shopping cart program from yesterday into an object-oriented program <br>\n",
    "  &nbsp;&nbsp;&nbsp;&nbsp; a) Exercise #2 - Create an Animal class with Eat, Sleep, and Play methods <br>"
   ]
  },
  {
   "cell_type": "code",
   "execution_count": 2,
   "metadata": {
    "scrolled": true
   },
   "outputs": [
    {
     "name": "stdout",
     "output_type": "stream",
     "text": [
      "Help on class str in module builtins:\n",
      "\n",
      "class str(object)\n",
      " |  str(object='') -> str\n",
      " |  str(bytes_or_buffer[, encoding[, errors]]) -> str\n",
      " |  \n",
      " |  Create a new string object from the given object. If encoding or\n",
      " |  errors is specified, then the object must expose a data buffer\n",
      " |  that will be decoded using the given encoding and error handler.\n",
      " |  Otherwise, returns the result of object.__str__() (if defined)\n",
      " |  or repr(object).\n",
      " |  encoding defaults to sys.getdefaultencoding().\n",
      " |  errors defaults to 'strict'.\n",
      " |  \n",
      " |  Methods defined here:\n",
      " |  \n",
      " |  __add__(self, value, /)\n",
      " |      Return self+value.\n",
      " |  \n",
      " |  __contains__(self, key, /)\n",
      " |      Return key in self.\n",
      " |  \n",
      " |  __eq__(self, value, /)\n",
      " |      Return self==value.\n",
      " |  \n",
      " |  __format__(self, format_spec, /)\n",
      " |      Return a formatted version of the string as described by format_spec.\n",
      " |  \n",
      " |  __ge__(self, value, /)\n",
      " |      Return self>=value.\n",
      " |  \n",
      " |  __getattribute__(self, name, /)\n",
      " |      Return getattr(self, name).\n",
      " |  \n",
      " |  __getitem__(self, key, /)\n",
      " |      Return self[key].\n",
      " |  \n",
      " |  __getnewargs__(...)\n",
      " |  \n",
      " |  __gt__(self, value, /)\n",
      " |      Return self>value.\n",
      " |  \n",
      " |  __hash__(self, /)\n",
      " |      Return hash(self).\n",
      " |  \n",
      " |  __iter__(self, /)\n",
      " |      Implement iter(self).\n",
      " |  \n",
      " |  __le__(self, value, /)\n",
      " |      Return self<=value.\n",
      " |  \n",
      " |  __len__(self, /)\n",
      " |      Return len(self).\n",
      " |  \n",
      " |  __lt__(self, value, /)\n",
      " |      Return self<value.\n",
      " |  \n",
      " |  __mod__(self, value, /)\n",
      " |      Return self%value.\n",
      " |  \n",
      " |  __mul__(self, value, /)\n",
      " |      Return self*value.\n",
      " |  \n",
      " |  __ne__(self, value, /)\n",
      " |      Return self!=value.\n",
      " |  \n",
      " |  __repr__(self, /)\n",
      " |      Return repr(self).\n",
      " |  \n",
      " |  __rmod__(self, value, /)\n",
      " |      Return value%self.\n",
      " |  \n",
      " |  __rmul__(self, value, /)\n",
      " |      Return value*self.\n",
      " |  \n",
      " |  __sizeof__(self, /)\n",
      " |      Return the size of the string in memory, in bytes.\n",
      " |  \n",
      " |  __str__(self, /)\n",
      " |      Return str(self).\n",
      " |  \n",
      " |  capitalize(self, /)\n",
      " |      Return a capitalized version of the string.\n",
      " |      \n",
      " |      More specifically, make the first character have upper case and the rest lower\n",
      " |      case.\n",
      " |  \n",
      " |  casefold(self, /)\n",
      " |      Return a version of the string suitable for caseless comparisons.\n",
      " |  \n",
      " |  center(self, width, fillchar=' ', /)\n",
      " |      Return a centered string of length width.\n",
      " |      \n",
      " |      Padding is done using the specified fill character (default is a space).\n",
      " |  \n",
      " |  count(...)\n",
      " |      S.count(sub[, start[, end]]) -> int\n",
      " |      \n",
      " |      Return the number of non-overlapping occurrences of substring sub in\n",
      " |      string S[start:end].  Optional arguments start and end are\n",
      " |      interpreted as in slice notation.\n",
      " |  \n",
      " |  encode(self, /, encoding='utf-8', errors='strict')\n",
      " |      Encode the string using the codec registered for encoding.\n",
      " |      \n",
      " |      encoding\n",
      " |        The encoding in which to encode the string.\n",
      " |      errors\n",
      " |        The error handling scheme to use for encoding errors.\n",
      " |        The default is 'strict' meaning that encoding errors raise a\n",
      " |        UnicodeEncodeError.  Other possible values are 'ignore', 'replace' and\n",
      " |        'xmlcharrefreplace' as well as any other name registered with\n",
      " |        codecs.register_error that can handle UnicodeEncodeErrors.\n",
      " |  \n",
      " |  endswith(...)\n",
      " |      S.endswith(suffix[, start[, end]]) -> bool\n",
      " |      \n",
      " |      Return True if S ends with the specified suffix, False otherwise.\n",
      " |      With optional start, test S beginning at that position.\n",
      " |      With optional end, stop comparing S at that position.\n",
      " |      suffix can also be a tuple of strings to try.\n",
      " |  \n",
      " |  expandtabs(self, /, tabsize=8)\n",
      " |      Return a copy where all tab characters are expanded using spaces.\n",
      " |      \n",
      " |      If tabsize is not given, a tab size of 8 characters is assumed.\n",
      " |  \n",
      " |  find(...)\n",
      " |      S.find(sub[, start[, end]]) -> int\n",
      " |      \n",
      " |      Return the lowest index in S where substring sub is found,\n",
      " |      such that sub is contained within S[start:end].  Optional\n",
      " |      arguments start and end are interpreted as in slice notation.\n",
      " |      \n",
      " |      Return -1 on failure.\n",
      " |  \n",
      " |  format(...)\n",
      " |      S.format(*args, **kwargs) -> str\n",
      " |      \n",
      " |      Return a formatted version of S, using substitutions from args and kwargs.\n",
      " |      The substitutions are identified by braces ('{' and '}').\n",
      " |  \n",
      " |  format_map(...)\n",
      " |      S.format_map(mapping) -> str\n",
      " |      \n",
      " |      Return a formatted version of S, using substitutions from mapping.\n",
      " |      The substitutions are identified by braces ('{' and '}').\n",
      " |  \n",
      " |  index(...)\n",
      " |      S.index(sub[, start[, end]]) -> int\n",
      " |      \n",
      " |      Return the lowest index in S where substring sub is found,\n",
      " |      such that sub is contained within S[start:end].  Optional\n",
      " |      arguments start and end are interpreted as in slice notation.\n",
      " |      \n",
      " |      Raises ValueError when the substring is not found.\n",
      " |  \n",
      " |  isalnum(self, /)\n",
      " |      Return True if the string is an alpha-numeric string, False otherwise.\n",
      " |      \n",
      " |      A string is alpha-numeric if all characters in the string are alpha-numeric and\n",
      " |      there is at least one character in the string.\n",
      " |  \n",
      " |  isalpha(self, /)\n",
      " |      Return True if the string is an alphabetic string, False otherwise.\n",
      " |      \n",
      " |      A string is alphabetic if all characters in the string are alphabetic and there\n",
      " |      is at least one character in the string.\n",
      " |  \n",
      " |  isascii(self, /)\n",
      " |      Return True if all characters in the string are ASCII, False otherwise.\n",
      " |      \n",
      " |      ASCII characters have code points in the range U+0000-U+007F.\n",
      " |      Empty string is ASCII too.\n",
      " |  \n",
      " |  isdecimal(self, /)\n",
      " |      Return True if the string is a decimal string, False otherwise.\n",
      " |      \n",
      " |      A string is a decimal string if all characters in the string are decimal and\n",
      " |      there is at least one character in the string.\n",
      " |  \n",
      " |  isdigit(self, /)\n",
      " |      Return True if the string is a digit string, False otherwise.\n",
      " |      \n",
      " |      A string is a digit string if all characters in the string are digits and there\n",
      " |      is at least one character in the string.\n",
      " |  \n",
      " |  isidentifier(self, /)\n",
      " |      Return True if the string is a valid Python identifier, False otherwise.\n",
      " |      \n",
      " |      Call keyword.iskeyword(s) to test whether string s is a reserved identifier,\n",
      " |      such as \"def\" or \"class\".\n",
      " |  \n",
      " |  islower(self, /)\n",
      " |      Return True if the string is a lowercase string, False otherwise.\n",
      " |      \n",
      " |      A string is lowercase if all cased characters in the string are lowercase and\n",
      " |      there is at least one cased character in the string.\n",
      " |  \n",
      " |  isnumeric(self, /)\n",
      " |      Return True if the string is a numeric string, False otherwise.\n",
      " |      \n",
      " |      A string is numeric if all characters in the string are numeric and there is at\n",
      " |      least one character in the string.\n",
      " |  \n",
      " |  isprintable(self, /)\n",
      " |      Return True if the string is printable, False otherwise.\n",
      " |      \n",
      " |      A string is printable if all of its characters are considered printable in\n",
      " |      repr() or if it is empty.\n",
      " |  \n",
      " |  isspace(self, /)\n",
      " |      Return True if the string is a whitespace string, False otherwise.\n",
      " |      \n",
      " |      A string is whitespace if all characters in the string are whitespace and there\n",
      " |      is at least one character in the string.\n",
      " |  \n",
      " |  istitle(self, /)\n",
      " |      Return True if the string is a title-cased string, False otherwise.\n",
      " |      \n",
      " |      In a title-cased string, upper- and title-case characters may only\n",
      " |      follow uncased characters and lowercase characters only cased ones.\n",
      " |  \n",
      " |  isupper(self, /)\n",
      " |      Return True if the string is an uppercase string, False otherwise.\n",
      " |      \n",
      " |      A string is uppercase if all cased characters in the string are uppercase and\n",
      " |      there is at least one cased character in the string.\n",
      " |  \n",
      " |  join(self, iterable, /)\n",
      " |      Concatenate any number of strings.\n",
      " |      \n",
      " |      The string whose method is called is inserted in between each given string.\n",
      " |      The result is returned as a new string.\n",
      " |      \n",
      " |      Example: '.'.join(['ab', 'pq', 'rs']) -> 'ab.pq.rs'\n",
      " |  \n",
      " |  ljust(self, width, fillchar=' ', /)\n",
      " |      Return a left-justified string of length width.\n",
      " |      \n",
      " |      Padding is done using the specified fill character (default is a space).\n",
      " |  \n",
      " |  lower(self, /)\n",
      " |      Return a copy of the string converted to lowercase.\n",
      " |  \n",
      " |  lstrip(self, chars=None, /)\n",
      " |      Return a copy of the string with leading whitespace removed.\n",
      " |      \n",
      " |      If chars is given and not None, remove characters in chars instead.\n",
      " |  \n",
      " |  partition(self, sep, /)\n",
      " |      Partition the string into three parts using the given separator.\n",
      " |      \n",
      " |      This will search for the separator in the string.  If the separator is found,\n",
      " |      returns a 3-tuple containing the part before the separator, the separator\n",
      " |      itself, and the part after it.\n",
      " |      \n",
      " |      If the separator is not found, returns a 3-tuple containing the original string\n",
      " |      and two empty strings.\n",
      " |  \n",
      " |  replace(self, old, new, count=-1, /)\n",
      " |      Return a copy with all occurrences of substring old replaced by new.\n",
      " |      \n",
      " |        count\n",
      " |          Maximum number of occurrences to replace.\n",
      " |          -1 (the default value) means replace all occurrences.\n",
      " |      \n",
      " |      If the optional argument count is given, only the first count occurrences are\n",
      " |      replaced.\n",
      " |  \n",
      " |  rfind(...)\n",
      " |      S.rfind(sub[, start[, end]]) -> int\n",
      " |      \n",
      " |      Return the highest index in S where substring sub is found,\n",
      " |      such that sub is contained within S[start:end].  Optional\n",
      " |      arguments start and end are interpreted as in slice notation.\n",
      " |      \n",
      " |      Return -1 on failure.\n",
      " |  \n",
      " |  rindex(...)\n",
      " |      S.rindex(sub[, start[, end]]) -> int\n",
      " |      \n",
      " |      Return the highest index in S where substring sub is found,\n",
      " |      such that sub is contained within S[start:end].  Optional\n",
      " |      arguments start and end are interpreted as in slice notation.\n",
      " |      \n",
      " |      Raises ValueError when the substring is not found.\n",
      " |  \n",
      " |  rjust(self, width, fillchar=' ', /)\n",
      " |      Return a right-justified string of length width.\n",
      " |      \n",
      " |      Padding is done using the specified fill character (default is a space).\n",
      " |  \n",
      " |  rpartition(self, sep, /)\n",
      " |      Partition the string into three parts using the given separator.\n",
      " |      \n",
      " |      This will search for the separator in the string, starting at the end. If\n",
      " |      the separator is found, returns a 3-tuple containing the part before the\n",
      " |      separator, the separator itself, and the part after it.\n",
      " |      \n",
      " |      If the separator is not found, returns a 3-tuple containing two empty strings\n",
      " |      and the original string.\n",
      " |  \n",
      " |  rsplit(self, /, sep=None, maxsplit=-1)\n",
      " |      Return a list of the words in the string, using sep as the delimiter string.\n",
      " |      \n",
      " |        sep\n",
      " |          The delimiter according which to split the string.\n",
      " |          None (the default value) means split according to any whitespace,\n",
      " |          and discard empty strings from the result.\n",
      " |        maxsplit\n",
      " |          Maximum number of splits to do.\n",
      " |          -1 (the default value) means no limit.\n",
      " |      \n",
      " |      Splits are done starting at the end of the string and working to the front.\n",
      " |  \n",
      " |  rstrip(self, chars=None, /)\n",
      " |      Return a copy of the string with trailing whitespace removed.\n",
      " |      \n",
      " |      If chars is given and not None, remove characters in chars instead.\n",
      " |  \n",
      " |  split(self, /, sep=None, maxsplit=-1)\n",
      " |      Return a list of the words in the string, using sep as the delimiter string.\n",
      " |      \n",
      " |      sep\n",
      " |        The delimiter according which to split the string.\n",
      " |        None (the default value) means split according to any whitespace,\n",
      " |        and discard empty strings from the result.\n",
      " |      maxsplit\n",
      " |        Maximum number of splits to do.\n",
      " |        -1 (the default value) means no limit.\n",
      " |  \n",
      " |  splitlines(self, /, keepends=False)\n",
      " |      Return a list of the lines in the string, breaking at line boundaries.\n",
      " |      \n",
      " |      Line breaks are not included in the resulting list unless keepends is given and\n",
      " |      true.\n",
      " |  \n",
      " |  startswith(...)\n",
      " |      S.startswith(prefix[, start[, end]]) -> bool\n",
      " |      \n",
      " |      Return True if S starts with the specified prefix, False otherwise.\n",
      " |      With optional start, test S beginning at that position.\n",
      " |      With optional end, stop comparing S at that position.\n",
      " |      prefix can also be a tuple of strings to try.\n",
      " |  \n",
      " |  strip(self, chars=None, /)\n",
      " |      Return a copy of the string with leading and trailing whitespace removed.\n",
      " |      \n",
      " |      If chars is given and not None, remove characters in chars instead.\n",
      " |  \n",
      " |  swapcase(self, /)\n",
      " |      Convert uppercase characters to lowercase and lowercase characters to uppercase.\n",
      " |  \n",
      " |  title(self, /)\n",
      " |      Return a version of the string where each word is titlecased.\n",
      " |      \n",
      " |      More specifically, words start with uppercased characters and all remaining\n",
      " |      cased characters have lower case.\n",
      " |  \n",
      " |  translate(self, table, /)\n",
      " |      Replace each character in the string using the given translation table.\n",
      " |      \n",
      " |        table\n",
      " |          Translation table, which must be a mapping of Unicode ordinals to\n",
      " |          Unicode ordinals, strings, or None.\n",
      " |      \n",
      " |      The table must implement lookup/indexing via __getitem__, for instance a\n",
      " |      dictionary or list.  If this operation raises LookupError, the character is\n",
      " |      left untouched.  Characters mapped to None are deleted.\n",
      " |  \n",
      " |  upper(self, /)\n",
      " |      Return a copy of the string converted to uppercase.\n",
      " |  \n",
      " |  zfill(self, width, /)\n",
      " |      Pad a numeric string with zeros on the left, to fill a field of the given width.\n",
      " |      \n",
      " |      The string is never truncated.\n",
      " |  \n",
      " |  ----------------------------------------------------------------------\n",
      " |  Static methods defined here:\n",
      " |  \n",
      " |  __new__(*args, **kwargs) from builtins.type\n",
      " |      Create and return a new object.  See help(type) for accurate signature.\n",
      " |  \n",
      " |  maketrans(...)\n",
      " |      Return a translation table usable for str.translate().\n",
      " |      \n",
      " |      If there is only one argument, it must be a dictionary mapping Unicode\n",
      " |      ordinals (integers) or characters to Unicode ordinals, strings or None.\n",
      " |      Character keys will be then converted to ordinals.\n",
      " |      If there are two arguments, they must be strings of equal length, and\n",
      " |      in the resulting dictionary, each character in x will be mapped to the\n",
      " |      character at the same position in y. If there is a third argument, it\n",
      " |      must be a string, whose characters will be mapped to None in the result.\n",
      "\n"
     ]
    }
   ],
   "source": [
    "help(str)"
   ]
  },
  {
   "cell_type": "markdown",
   "metadata": {},
   "source": [
    "#### Object-Oriented Programming"
   ]
  },
  {
   "cell_type": "markdown",
   "metadata": {},
   "source": [
    "Object-Oriented Programming (OOP) allows us to create programs so that that properties and behaviors are bundled into **objects**. OOP models real-world entities as software objects that have some data associated with them and can perform certain functions."
   ]
  },
  {
   "cell_type": "markdown",
   "metadata": {},
   "source": [
    "## Creating a Class (Initializing/Declaring)\n",
    "<p>When creating a class, function, or even a variable you are initializing that object. Initializing and Declaring occur at the same time in Python, whereas in lower level languages you have to declare an object before initializing it. This is the first step in the process of using a class.</p>"
   ]
  },
  {
   "cell_type": "code",
   "execution_count": 3,
   "metadata": {},
   "outputs": [],
   "source": [
    "name = \"Alex\"\n",
    "my_list = [1,2,3,4]\n",
    "x = 10\n",
    "\n",
    "# Each of these are INSTANCES of a class: str, list, int..."
   ]
  },
  {
   "cell_type": "code",
   "execution_count": 4,
   "metadata": {},
   "outputs": [
    {
     "data": {
      "text/plain": [
       "'ALEX'"
      ]
     },
     "execution_count": 4,
     "metadata": {},
     "output_type": "execute_result"
    }
   ],
   "source": [
    "name.upper()"
   ]
  },
  {
   "cell_type": "code",
   "execution_count": 58,
   "metadata": {
    "scrolled": true
   },
   "outputs": [
    {
     "name": "stdout",
     "output_type": "stream",
     "text": [
      "Help on class Student in module __main__:\n",
      "\n",
      "class Student(builtins.object)\n",
      " |  Data descriptors defined here:\n",
      " |  \n",
      " |  __dict__\n",
      " |      dictionary for instance variables (if defined)\n",
      " |  \n",
      " |  __weakref__\n",
      " |      list of weak references to the object (if defined)\n",
      "\n"
     ]
    }
   ],
   "source": [
    "# Syntax = Class ClassName(): OR    class ClassName: *always capitalize class name\n",
    "\n",
    "class Student:\n",
    "    pass\n",
    "\n",
    "help(Student)"
   ]
  },
  {
   "cell_type": "code",
   "execution_count": 12,
   "metadata": {},
   "outputs": [
    {
     "name": "stdout",
     "output_type": "stream",
     "text": [
      "{'__module__': '__main__', '__dict__': <attribute '__dict__' of 'Student' objects>, '__weakref__': <attribute '__weakref__' of 'Student' objects>, '__doc__': None}\n"
     ]
    }
   ],
   "source": [
    "print(Student.__dict__)\n",
    "\n",
    "# methods within Class are methods: some are dunder methods __init__, others not\n",
    "# Dunder methods used to UPDATE how certain operators work...\n"
   ]
  },
  {
   "cell_type": "markdown",
   "metadata": {},
   "source": [
    "## Using a Class (Instantiating)\n",
    "<p>The process of creating a class is called <i>Instantiating</i>. Each time you create a variable of that type of class, it is referred to as an <i>Instance</i> of that class. This is the second step in the process of using a class.</p>"
   ]
  },
  {
   "cell_type": "code",
   "execution_count": 16,
   "metadata": {},
   "outputs": [
    {
     "name": "stdout",
     "output_type": "stream",
     "text": [
      "1879985357376\n",
      "1879985344064\n"
     ]
    }
   ],
   "source": [
    "a_list = [1,2,3]\n",
    "b_list = [4,5,6]\n",
    "\n",
    "print(id(a_list)) # this is an instance of Class list; instances can be modified\n",
    "print(id(b_list)) # this is another instance of Class list; instances can be modified\n"
   ]
  },
  {
   "cell_type": "code",
   "execution_count": 17,
   "metadata": {},
   "outputs": [
    {
     "name": "stdout",
     "output_type": "stream",
     "text": [
      "[1, 2, 3]\n",
      "[4, 5, 6]\n",
      "[1, 2, 3]\n",
      "[4, 5, 6, 10]\n"
     ]
    }
   ],
   "source": [
    "print(a_list)\n",
    "print(b_list)\n",
    "\n",
    "b_list.append(10)\n",
    "print(a_list)\n",
    "print(b_list)\n"
   ]
  },
  {
   "cell_type": "markdown",
   "metadata": {},
   "source": [
    "##### Creating One Instance"
   ]
  },
  {
   "cell_type": "code",
   "execution_count": 19,
   "metadata": {},
   "outputs": [
    {
     "name": "stdout",
     "output_type": "stream",
     "text": [
      "<__main__.Student object at 0x000001B5B8CB4F40>\n"
     ]
    },
    {
     "data": {
      "text/plain": [
       "<__main__.Student at 0x1b5b8cb4f40>"
      ]
     },
     "execution_count": 19,
     "metadata": {},
     "output_type": "execute_result"
    }
   ],
   "source": [
    "# Syntax: variable_name = ClassName()\n",
    "\n",
    "student1 = Student() # student 1 is equal to instance of Class Student\n",
    "\n",
    "print(student1)\n",
    "student1"
   ]
  },
  {
   "cell_type": "markdown",
   "metadata": {},
   "source": [
    "##### Creating Multiple Instances"
   ]
  },
  {
   "cell_type": "code",
   "execution_count": 59,
   "metadata": {},
   "outputs": [
    {
     "name": "stdout",
     "output_type": "stream",
     "text": [
      "<__main__.Student object at 0x000001B5B91251C0>\n",
      "<__main__.Student object at 0x000001B5B9125460>\n",
      "<__main__.Student object at 0x000001B5B9125460>\n"
     ]
    }
   ],
   "source": [
    "student2 = Student()\n",
    "print(student2)\n",
    "\n",
    "student3 = Student()\n",
    "student4 = student3\n",
    "print(student4)\n",
    "print(student3)"
   ]
  },
  {
   "cell_type": "markdown",
   "metadata": {},
   "source": [
    "##### Adding attributes to instances"
   ]
  },
  {
   "cell_type": "code",
   "execution_count": 60,
   "metadata": {},
   "outputs": [
    {
     "name": "stdout",
     "output_type": "stream",
     "text": [
      "Student 1: {'first_name': 'John', 'last_name': 'Smith'}\n",
      "Student 2: {'first_name': 'Laura', 'last_name': 'Green'}\n"
     ]
    }
   ],
   "source": [
    "# Syntax: instance_variable_name.attribute_name = value\n",
    "\n",
    "student1.first_name = 'John'\n",
    "student1.last_name = 'Smith'\n",
    "\n",
    "student2.first_name = 'Laura'\n",
    "student2.last_name = \"Green\"\n",
    "\n",
    "print(\"Student 1:\", student1.__dict__)\n",
    "\n",
    "print(\"Student 2:\", student2.__dict__)"
   ]
  },
  {
   "cell_type": "markdown",
   "metadata": {},
   "source": [
    "##### Access Attributes of an instance"
   ]
  },
  {
   "cell_type": "code",
   "execution_count": 61,
   "metadata": {},
   "outputs": [
    {
     "name": "stdout",
     "output_type": "stream",
     "text": [
      "John\n"
     ]
    }
   ],
   "source": [
    "# Syntax: instance_var_name.attribute\n",
    "\n",
    "print(student1.first_name)"
   ]
  },
  {
   "cell_type": "markdown",
   "metadata": {},
   "source": [
    "##### In-Class Exercise #1 - Create a Class 'Car' and Instantiate three different car instances. Add a different make for each car."
   ]
  },
  {
   "cell_type": "code",
   "execution_count": 62,
   "metadata": {},
   "outputs": [
    {
     "name": "stdout",
     "output_type": "stream",
     "text": [
      "<__main__.Car object at 0x000001B5B9125190> <__main__.Car object at 0x000001B5B91259D0> <__main__.Car object at 0x000001B5B9125100>\n",
      "<__main__.Car object at 0x000001B5B9125190>\n"
     ]
    }
   ],
   "source": [
    "class Car:\n",
    "    pass\n",
    "\n",
    "car1 = Car()\n",
    "car2 = Car()\n",
    "car3 = Car()\n",
    "\n",
    "print(car1, car2, car3)\n",
    "\n",
    "car1.make = \"ford\"\n",
    "car2.make = \"chevy\"\n",
    "car3.make = \"ferrari\"\n",
    "\n",
    "print(car1)"
   ]
  },
  {
   "cell_type": "code",
   "execution_count": 63,
   "metadata": {
    "scrolled": true
   },
   "outputs": [
    {
     "name": "stdout",
     "output_type": "stream",
     "text": [
      "<__main__.Car object at 0x000001B5B9125640> <__main__.Car object at 0x000001B5B91253A0> <__main__.Car object at 0x000001B5B9125190>\n"
     ]
    }
   ],
   "source": [
    "car1 = Car()\n",
    "car2 = Car()\n",
    "car3 = Car()\n",
    "\n",
    "print(car1, car2, car3)"
   ]
  },
  {
   "cell_type": "code",
   "execution_count": 64,
   "metadata": {
    "scrolled": true
   },
   "outputs": [
    {
     "name": "stdout",
     "output_type": "stream",
     "text": [
      "<__main__.Car object at 0x000001B5B9125640>\n"
     ]
    }
   ],
   "source": [
    "car1.make = \"ford\"\n",
    "car2.make = \"chevy\"\n",
    "car3.make = \"ferrari\"\n",
    "\n",
    "print(car1)"
   ]
  },
  {
   "cell_type": "code",
   "execution_count": 65,
   "metadata": {
    "scrolled": false
   },
   "outputs": [
    {
     "name": "stdout",
     "output_type": "stream",
     "text": [
      "ford\n"
     ]
    }
   ],
   "source": [
    "print(car1.make)"
   ]
  },
  {
   "cell_type": "markdown",
   "metadata": {},
   "source": [
    "## The \\__init\\__() Method <br>\n",
    "<p>This method is used in almost every created class, and called only once upon the creation of the class instance. This method will initialize all variables needed for the object.</p>"
   ]
  },
  {
   "cell_type": "markdown",
   "metadata": {},
   "source": [
    "##### The 'self' Attribute <br>\n",
    "<p>This attribute is required to keep track of specific instance's attributes. Without the self attribute, the program would not know how to reference or keep track of an instance's attributes.</p>"
   ]
  },
  {
   "cell_type": "code",
   "execution_count": 66,
   "metadata": {},
   "outputs": [
    {
     "name": "stdout",
     "output_type": "stream",
     "text": [
      "Help on method_descriptor:\n",
      "\n",
      "capitalize(self, /)\n",
      "    Return a capitalized version of the string.\n",
      "    \n",
      "    More specifically, make the first character have upper case and the rest lower\n",
      "    case.\n",
      "\n"
     ]
    }
   ],
   "source": [
    "help(str.capitalize)"
   ]
  },
  {
   "cell_type": "code",
   "execution_count": 67,
   "metadata": {},
   "outputs": [
    {
     "data": {
      "text/plain": [
       "'Alex'"
      ]
     },
     "execution_count": 67,
     "metadata": {},
     "output_type": "execute_result"
    }
   ],
   "source": [
    "first = \"Alex\"\n",
    "\n",
    "first.capitalize()"
   ]
  },
  {
   "cell_type": "code",
   "execution_count": 68,
   "metadata": {},
   "outputs": [
    {
     "data": {
      "text/plain": [
       "'Alex'"
      ]
     },
     "execution_count": 68,
     "metadata": {},
     "output_type": "execute_result"
    }
   ],
   "source": [
    "str.capitalize(first)"
   ]
  },
  {
   "cell_type": "code",
   "execution_count": 74,
   "metadata": {},
   "outputs": [
    {
     "name": "stdout",
     "output_type": "stream",
     "text": [
      "Jimmy\n",
      "{'first_name': 'Jimmy', 'last_name': 'John', 'teacher': 'Mr. Holmes'}\n"
     ]
    }
   ],
   "source": [
    "def create_student(first, last, teacher):\n",
    "    student_instance = Student()\n",
    "    student_instance.first_name = first\n",
    "    student_instance.last_name = last\n",
    "    student_instance.teacher = teacher\n",
    "    return student_instance\n",
    "\n",
    "\n",
    "new_student = create_student('Jimmy', \"John\", \"Mr. Holmes\")\n",
    "print(new_student.first_name)\n",
    "print(new_student.__dict__)"
   ]
  },
  {
   "cell_type": "code",
   "execution_count": 75,
   "metadata": {},
   "outputs": [
    {
     "name": "stdout",
     "output_type": "stream",
     "text": [
      "<__main__.Student object at 0x000001B5B9223760>\n",
      "{'first_name': 'molly', 'last_name': 'mollers', 'teacher': 'mr. opus'}\n"
     ]
    }
   ],
   "source": [
    "def create_student_like_an_init(self, first, last, teacher):\n",
    "    self.first_name = first\n",
    "    self.last_name = last\n",
    "    self.teacher = teacher\n",
    "    \n",
    "    return self\n",
    "\n",
    "student_a = create_student_like_an_init(Student(), \"molly\", \"mollers\", \"mr. opus\")\n",
    "print(student_a)\n",
    "print(student_a.__dict__)"
   ]
  },
  {
   "cell_type": "code",
   "execution_count": 78,
   "metadata": {},
   "outputs": [
    {
     "name": "stdout",
     "output_type": "stream",
     "text": [
      "Help on class Student in module __main__:\n",
      "\n",
      "class Student(builtins.object)\n",
      " |  Data descriptors defined here:\n",
      " |  \n",
      " |  __dict__\n",
      " |      dictionary for instance variables (if defined)\n",
      " |  \n",
      " |  __weakref__\n",
      " |      list of weak references to the object (if defined)\n",
      "\n"
     ]
    }
   ],
   "source": [
    "help(Student)"
   ]
  },
  {
   "cell_type": "code",
   "execution_count": 84,
   "metadata": {},
   "outputs": [
    {
     "name": "stdout",
     "output_type": "stream",
     "text": [
      "Creating a new instance\n",
      "self: <__main__.Student object at 0x000001B5B9223AF0>\n",
      "After function created <__main__.Student object at 0x000001B5B9223AF0>\n",
      "{'first_name': 'Tim', 'last_name': 'erickson', 'full_name': 'Timerickson', 'teacher': 'mr brown', 'gpa': 4.0}\n"
     ]
    }
   ],
   "source": [
    "class Student:\n",
    "    \n",
    "    def __init__(self, first, last, teacher):\n",
    "        print(\"Creating a new instance\")\n",
    "        print(\"self:\", self)\n",
    "        self.first_name = first\n",
    "        self.last_name = last\n",
    "        self.full_name = first + last\n",
    "        self.teacher = teacher\n",
    "        self.gpa = 4.0\n",
    "        \n",
    "student_b = Student(\"Tim\", \"erickson\", \"mr brown\")\n",
    "print(\"After function created\", student_b)\n",
    "print(student_b.__dict__)"
   ]
  },
  {
   "cell_type": "code",
   "execution_count": null,
   "metadata": {},
   "outputs": [],
   "source": []
  },
  {
   "cell_type": "markdown",
   "metadata": {},
   "source": [
    "## Class Attributes <br>\n",
    "<p>While variables are inside of a class, they are referred to as attributes and not variables. When someone says 'attribute' you know they're speaking about a class. Attributes can be initialized through the init method, or outside of it.</p>"
   ]
  },
  {
   "cell_type": "markdown",
   "metadata": {},
   "source": [
    "##### Initializing Attributes"
   ]
  },
  {
   "cell_type": "code",
   "execution_count": 105,
   "metadata": {},
   "outputs": [],
   "source": [
    "class Truck:\n",
    "    \n",
    "    wheels = 4 # CLASS attr YOU DONT HAVE TO PUT SELF.ATTRIBUTE, JUST THE ATTRIBUTE\n",
    "    \n",
    "    def __init__(self, color, make):\n",
    "        self.color = color # INSTANCE attr\n",
    "        self.make = make # INSTANCE attr\n",
    "        \n",
    "truck1 = Truck('Red', 'Chevy')\n",
    "truck2 = Truck('Blue', 'Honda')\n"
   ]
  },
  {
   "cell_type": "code",
   "execution_count": 106,
   "metadata": {},
   "outputs": [
    {
     "name": "stdout",
     "output_type": "stream",
     "text": [
      "{'color': 'Red', 'make': 'Chevy'}\n"
     ]
    }
   ],
   "source": [
    "print(truck1.__dict__)"
   ]
  },
  {
   "cell_type": "code",
   "execution_count": 107,
   "metadata": {},
   "outputs": [
    {
     "name": "stdout",
     "output_type": "stream",
     "text": [
      "4\n"
     ]
    }
   ],
   "source": [
    "print(truck1.wheels)"
   ]
  },
  {
   "cell_type": "code",
   "execution_count": 108,
   "metadata": {},
   "outputs": [
    {
     "name": "stdout",
     "output_type": "stream",
     "text": [
      "{'__module__': '__main__', 'wheels': 4, '__init__': <function Truck.__init__ at 0x000001B5B8F98790>, '__dict__': <attribute '__dict__' of 'Truck' objects>, '__weakref__': <attribute '__weakref__' of 'Truck' objects>, '__doc__': None}\n"
     ]
    }
   ],
   "source": [
    "print(Truck.__dict__)"
   ]
  },
  {
   "cell_type": "code",
   "execution_count": 109,
   "metadata": {},
   "outputs": [],
   "source": [
    "# WHEN CHECKING CLASSES, PYTHON LOOKS FIRST THROUGH THE INSTANCE ATTRIBUTES, THEN CLASS ATTRIBUTES\n"
   ]
  },
  {
   "cell_type": "markdown",
   "metadata": {},
   "source": [
    "##### Accessing Class Attributes"
   ]
  },
  {
   "cell_type": "code",
   "execution_count": 110,
   "metadata": {
    "scrolled": true
   },
   "outputs": [],
   "source": [
    "# See Above"
   ]
  },
  {
   "cell_type": "markdown",
   "metadata": {},
   "source": [
    "##### Setting Defaults for Attributes"
   ]
  },
  {
   "cell_type": "code",
   "execution_count": 129,
   "metadata": {},
   "outputs": [
    {
     "name": "stdout",
     "output_type": "stream",
     "text": [
      "red Trek\n",
      "blue Shrin 22in\n"
     ]
    }
   ],
   "source": [
    "class Bike:\n",
    "    \n",
    "    def __init__(self, color, brand='Trek'):\n",
    "        self.color = color\n",
    "        self.brand = brand\n",
    "        self.wheels = 2\n",
    "        \n",
    "bike = Bike('red') # no brand specified\n",
    "print(bike.color, bike.brand)\n",
    "bike2 = Bike('blue', 'Shrin')\n",
    "bike2.rims = '22in'\n",
    "print(bike2.color, bike2.brand, bike2.rims)"
   ]
  },
  {
   "cell_type": "markdown",
   "metadata": {},
   "source": [
    "##### Changing Class Attributes <br>\n",
    "<p>Keep in mind there are global class attributes and then there are attributes only available to each class instance which won't effect other classes.</p>"
   ]
  },
  {
   "cell_type": "code",
   "execution_count": 120,
   "metadata": {},
   "outputs": [],
   "source": [
    "class Truck():\n",
    "    \n",
    "    wheels = 4 # Class Attribute\n",
    "    \n",
    "    def __init__(self, color, make):\n",
    "        self.color = color\n",
    "        self.make = make"
   ]
  },
  {
   "cell_type": "code",
   "execution_count": 121,
   "metadata": {},
   "outputs": [],
   "source": [
    "truck1 = Truck('Black', 'Hummer')\n",
    "truck2 = Truck('Pink', 'GM')"
   ]
  },
  {
   "cell_type": "code",
   "execution_count": 123,
   "metadata": {},
   "outputs": [
    {
     "name": "stdout",
     "output_type": "stream",
     "text": [
      "4\n",
      "4\n"
     ]
    }
   ],
   "source": [
    "print(truck1.wheels)\n",
    "print(truck2.wheels)"
   ]
  },
  {
   "cell_type": "code",
   "execution_count": 125,
   "metadata": {},
   "outputs": [
    {
     "name": "stdout",
     "output_type": "stream",
     "text": [
      "16\n",
      "4\n"
     ]
    }
   ],
   "source": [
    "truck1.wheels = 16 # Sets an INSTANCE ATTR on truck1\n",
    "print(truck1.wheels)\n",
    "print(truck2.wheels)"
   ]
  },
  {
   "cell_type": "code",
   "execution_count": 126,
   "metadata": {},
   "outputs": [
    {
     "name": "stdout",
     "output_type": "stream",
     "text": [
      "{'color': 'Black', 'make': 'Hummer', 'wheels': 16}\n"
     ]
    }
   ],
   "source": [
    "print(truck1.__dict__)"
   ]
  },
  {
   "cell_type": "markdown",
   "metadata": {},
   "source": [
    "##### In-Class Exercise 2 - Create an \\__init__ method for your Car class which takes in color and model with a default value for gas_level of 100. Your class should also have a class attribute for make. Once you have created the class, instantiate 3 different cars"
   ]
  },
  {
   "cell_type": "code",
   "execution_count": 141,
   "metadata": {},
   "outputs": [
    {
     "name": "stdout",
     "output_type": "stream",
     "text": [
      "{'color': 'red', 'model': 'mustang', 'gas_level': 200}\n",
      "{'color': 'blue', 'model': 'beetle', 'gas_level': 100, 'make': 'chevy'}\n"
     ]
    }
   ],
   "source": [
    "class Car:\n",
    "    \n",
    "    make = 'Ferrari'\n",
    "    \n",
    "    def __init__(self, color, model, gas_level=100):\n",
    "        self.color = color\n",
    "        self.model = model\n",
    "        self.gas_level = gas_level\n",
    "\n",
    "car1 = Car('red', 'mustang', 200, )\n",
    "car2 = Car('blue', 'beetle')\n",
    "\n",
    "# car1.make = \"ford\"\n",
    "car2.make = \"chevy\"\n",
    "\n",
    "print(car1.__dict__)\n",
    "print(car2.__dict__)"
   ]
  },
  {
   "cell_type": "markdown",
   "metadata": {},
   "source": [
    "## Class Methods <br>\n",
    "<p>While inside of a class, functions are referred to as 'methods'. If you hear someone mention methods, they're speaking about classes. Methods are essentially functions, but only callable on the instances of a class.</p>"
   ]
  },
  {
   "cell_type": "markdown",
   "metadata": {},
   "source": [
    "##### Creating"
   ]
  },
  {
   "cell_type": "code",
   "execution_count": 199,
   "metadata": {},
   "outputs": [
    {
     "name": "stdout",
     "output_type": "stream",
     "text": [
      "{'first': 'Jack', 'last': 'Johnson', 'salary': 100000, 'email': 'jack.johnson@company.org'}\n",
      "{'first': 'Jack', 'last': 'Brown', 'salary': 100000, 'email': 'jack.brown@company.org'}\n",
      "100000\n",
      "Employee new salary is 105000\n"
     ]
    }
   ],
   "source": [
    "# Sytnax - class ClassName:\n",
    "#        def method_name(self, ...):\n",
    "#                 pass\n",
    "\n",
    "class Employee:\n",
    "    raise_amount = 1.05 # 5% raise\n",
    "    \n",
    "    def __init__(self, first, last, salary):\n",
    "        self.first = first.title()\n",
    "        self.last = last.title()\n",
    "        self.salary = salary\n",
    "        self.email = first.lower() + '.' + last.lower() + \"@company.org\"\n",
    "        \n",
    "    def get_full_name(self):\n",
    "        '''\n",
    "        retun doc here'''\n",
    "        return self.first + ' ' + self.last\n",
    "    \n",
    "    def change_last(self, new_last_name):\n",
    "        self.last = new_last_name.title()\n",
    "        self.email = self.first.lower() + '.' + self.last.lower() + \"@company.org\"\n",
    "        \n",
    "    def apply_raise(self):\n",
    "        self.salary = int(self.salary * self.raise_amount) # could change self.raise_amount to Employee.raise_amount...this would ONLY call class.\n",
    "        \n",
    "\n",
    "emp1 = Employee(\"Jack\", \"Johnson\", 100000)\n",
    "emp2 = Employee(\"Veruca\", \"Salt\", 200000)\n",
    "\n",
    "print(emp1.__dict__)\n",
    "emp1.change_last('Brown')\n",
    "print(emp1.__dict__)\n",
    "print(emp1.salary)\n",
    "emp1.apply_raise()\n",
    "print(f\"Employee new salary is {emp1.salary}\")"
   ]
  },
  {
   "cell_type": "code",
   "execution_count": 200,
   "metadata": {},
   "outputs": [
    {
     "name": "stdout",
     "output_type": "stream",
     "text": [
      "your new raise is 125000\n"
     ]
    }
   ],
   "source": [
    "emp1.salary = 100000\n",
    "emp1.raise_amount = 1.25\n",
    "\n",
    "emp1.apply_raise()\n",
    "print(f\"your new raise is {emp1.salary}\")"
   ]
  },
  {
   "cell_type": "code",
   "execution_count": 201,
   "metadata": {},
   "outputs": [],
   "source": [
    "# def get_full_name(employee_instance):\n",
    "#     return employee_instance.first + ' ' + employee_instance.last\n",
    "\n",
    "# get_full_name(emp1)\n",
    "\n",
    "# def change_last(employee_instance, new_last_name):\n",
    "#     employee_instance.last == new_last_name\n",
    "    \n",
    "# print(emp1.last)\n",
    "# change_last(emp1, 'Brewsker')\n",
    "# print(emp1.last)"
   ]
  },
  {
   "cell_type": "code",
   "execution_count": 202,
   "metadata": {},
   "outputs": [
    {
     "data": {
      "text/plain": [
       "'Jack Brown'"
      ]
     },
     "execution_count": 202,
     "metadata": {},
     "output_type": "execute_result"
    }
   ],
   "source": [
    "emp1.get_full_name()"
   ]
  },
  {
   "cell_type": "code",
   "execution_count": 203,
   "metadata": {},
   "outputs": [
    {
     "data": {
      "text/plain": [
       "__main__.Employee"
      ]
     },
     "execution_count": 203,
     "metadata": {},
     "output_type": "execute_result"
    }
   ],
   "source": [
    "Employee"
   ]
  },
  {
   "cell_type": "code",
   "execution_count": 204,
   "metadata": {},
   "outputs": [
    {
     "data": {
      "text/plain": [
       "True"
      ]
     },
     "execution_count": 204,
     "metadata": {},
     "output_type": "execute_result"
    }
   ],
   "source": [
    "Employee.get_full_name(emp1) == emp1.get_full_name()"
   ]
  },
  {
   "cell_type": "code",
   "execution_count": 205,
   "metadata": {},
   "outputs": [
    {
     "data": {
      "text/plain": [
       "True"
      ]
     },
     "execution_count": 205,
     "metadata": {},
     "output_type": "execute_result"
    }
   ],
   "source": [
    "str.capitalize('blue') == 'blue'.capitalize()"
   ]
  },
  {
   "cell_type": "code",
   "execution_count": 206,
   "metadata": {},
   "outputs": [
    {
     "name": "stdout",
     "output_type": "stream",
     "text": [
      "Help on class Employee in module __main__:\n",
      "\n",
      "class Employee(builtins.object)\n",
      " |  Employee(first, last, salary)\n",
      " |  \n",
      " |  Methods defined here:\n",
      " |  \n",
      " |  __init__(self, first, last, salary)\n",
      " |      Initialize self.  See help(type(self)) for accurate signature.\n",
      " |  \n",
      " |  apply_raise(self)\n",
      " |  \n",
      " |  change_last(self, new_last_name)\n",
      " |  \n",
      " |  get_full_name(self)\n",
      " |      retun doc here\n",
      " |  \n",
      " |  ----------------------------------------------------------------------\n",
      " |  Data descriptors defined here:\n",
      " |  \n",
      " |  __dict__\n",
      " |      dictionary for instance variables (if defined)\n",
      " |  \n",
      " |  __weakref__\n",
      " |      list of weak references to the object (if defined)\n",
      " |  \n",
      " |  ----------------------------------------------------------------------\n",
      " |  Data and other attributes defined here:\n",
      " |  \n",
      " |  raise_amount = 1.05\n",
      "\n"
     ]
    }
   ],
   "source": [
    "help(Employee)"
   ]
  },
  {
   "cell_type": "markdown",
   "metadata": {},
   "source": [
    "##### Calling"
   ]
  },
  {
   "cell_type": "code",
   "execution_count": null,
   "metadata": {},
   "outputs": [],
   "source": []
  },
  {
   "cell_type": "markdown",
   "metadata": {},
   "source": [
    "##### Modifying an Attribute's Value Through a Method"
   ]
  },
  {
   "cell_type": "code",
   "execution_count": null,
   "metadata": {},
   "outputs": [],
   "source": []
  },
  {
   "cell_type": "code",
   "execution_count": null,
   "metadata": {},
   "outputs": [],
   "source": []
  },
  {
   "cell_type": "markdown",
   "metadata": {},
   "source": [
    "##### Incrementing an Attribute's Value Through a Method"
   ]
  },
  {
   "cell_type": "code",
   "execution_count": null,
   "metadata": {},
   "outputs": [],
   "source": []
  },
  {
   "cell_type": "markdown",
   "metadata": {},
   "source": [
    "##### In-Class Exercise #3 - Add two methods to your car class. One method called `drive` that will take in the number of miles and decrease that car's `gas_level` by 1 unit for every 5 miles. Another method called `fill_up` will take in gallons and increase the `gas_level` by 10 units for every gallon."
   ]
  },
  {
   "cell_type": "code",
   "execution_count": 227,
   "metadata": {},
   "outputs": [
    {
     "name": "stdout",
     "output_type": "stream",
     "text": [
      "This car has a gas level of 80\n",
      "{'color': 'red', 'model': 'mustang', 'gas_level': 80}\n",
      "The car is filled up with 50 units and is now 130\n",
      "{'color': 'red', 'model': 'mustang', 'gas_level': 130}\n",
      "This car has a gas level of -3\n",
      "{'color': 'blue', 'model': 'bronco', 'gas_level': -3}\n",
      "{'color': 'blue', 'model': 'bronco', 'gas_level': -3, 'blahblah': 'blah'}\n"
     ]
    }
   ],
   "source": [
    "class Car:\n",
    "    \n",
    "    make = \"Ferrari\"\n",
    "    \n",
    "    def __init__(self, color, model, gas_level=100):\n",
    "        self.color = color\n",
    "        self.model = model\n",
    "        self.gas_level = gas_level\n",
    "        \n",
    "    def drive(self, miles):\n",
    "        self.gas_level -= miles // 5\n",
    "        print(f\"This car has a gas level of {self.gas_level}\")\n",
    "    \n",
    "    def fill_up(self, gallons):\n",
    "        self.gas_level += gallons * 10\n",
    "        print(f\"The car is filled up with {gallons*10} units and is now {self.gas_level}\")\n",
    "        \n",
    "\n",
    "car1 = Car('red', 'mustang')\n",
    "car2 = Car('blue', 'bronco', 2)\n",
    "\n",
    "\n",
    "car1.drive(100)\n",
    "print(car1.__dict__)\n",
    "car1.fill_up(5)\n",
    "print(car1.__dict__)\n",
    "\n",
    "car2.drive(25)\n",
    "print(car2.__dict__)\n",
    "car2.blahblah = 'blah'\n",
    "print(car2.__dict__)"
   ]
  },
  {
   "cell_type": "markdown",
   "metadata": {},
   "source": [
    "## Classes as Attributes <br>\n",
    "<p>Classes can also be used as attributes within another class. This is useful in situations where you need to keep variables locally stored, instead of globally stored.</p>"
   ]
  },
  {
   "cell_type": "code",
   "execution_count": 238,
   "metadata": {},
   "outputs": [],
   "source": [
    "class Album:\n",
    "    def __init__(self, title, artist, release_year, song_list=[]):\n",
    "        self.title = title\n",
    "        self.artist = artist\n",
    "        self.release_year = release_year\n",
    "        self.song_list = song_list\n",
    "        \n",
    "    def add_song(self, song):\n",
    "        self.song_list.append(song)\n",
    "        print(f\"{song.name} has been added to the album.\")\n",
    "        \n",
    "    def play_album(self):\n",
    "        for song in self.song_list:\n",
    "            print(f\"{song.name} is playing for the next {song.length}\")\n",
    "        \n",
    "class Song:\n",
    "    def __init__(self, name, length, features=None):\n",
    "        self.name = name\n",
    "        self.length = length\n",
    "        self.features = features\n",
    "        \n",
    "        \n",
    "class Artist:\n",
    "    def __init__(self, name, members=[]):\n",
    "        self.name = name\n",
    "        self.members = members\n",
    "        \n"
   ]
  },
  {
   "cell_type": "code",
   "execution_count": 239,
   "metadata": {},
   "outputs": [],
   "source": [
    "song1 = Song('Come Together', '4:19')\n",
    "song2 = Song('Something', '3:02')\n",
    "song3 = Song(\"Maxwell's Silver Hammer\", \"3:27\")\n",
    "\n",
    "beatles = Artist(\"The Beatles\", ['John', 'Paul', 'George', 'Ringo'])\n",
    "\n",
    "abbey_road = Album(\"Abbey Road\", beatles, 1969)"
   ]
  },
  {
   "cell_type": "code",
   "execution_count": 244,
   "metadata": {},
   "outputs": [
    {
     "name": "stdout",
     "output_type": "stream",
     "text": [
      "Come Together is playing for the next 4:19\n",
      "Something is playing for the next 3:02\n",
      "Maxwell's Silver Hammer is playing for the next 3:27\n"
     ]
    }
   ],
   "source": [
    "abbey_road.play_album()"
   ]
  },
  {
   "cell_type": "code",
   "execution_count": 240,
   "metadata": {},
   "outputs": [
    {
     "name": "stdout",
     "output_type": "stream",
     "text": [
      "Come Together has been added to the album.\n"
     ]
    }
   ],
   "source": [
    "abbey_road.add_song(song1)"
   ]
  },
  {
   "cell_type": "code",
   "execution_count": 241,
   "metadata": {},
   "outputs": [
    {
     "name": "stdout",
     "output_type": "stream",
     "text": [
      "Something has been added to the album.\n"
     ]
    }
   ],
   "source": [
    "abbey_road.add_song(song2)"
   ]
  },
  {
   "cell_type": "code",
   "execution_count": 242,
   "metadata": {},
   "outputs": [
    {
     "name": "stdout",
     "output_type": "stream",
     "text": [
      "Maxwell's Silver Hammer has been added to the album.\n"
     ]
    }
   ],
   "source": [
    "abbey_road.add_song(song3)"
   ]
  },
  {
   "cell_type": "code",
   "execution_count": 243,
   "metadata": {},
   "outputs": [
    {
     "data": {
      "text/plain": [
       "['John', 'Paul', 'George', 'Ringo']"
      ]
     },
     "execution_count": 243,
     "metadata": {},
     "output_type": "execute_result"
    }
   ],
   "source": [
    "beatles.members"
   ]
  },
  {
   "cell_type": "markdown",
   "metadata": {},
   "source": [
    "# Exercises"
   ]
  },
  {
   "cell_type": "markdown",
   "metadata": {},
   "source": [
    "### Exercise 1 - Turn the shopping cart program into an object-oriented program"
   ]
  },
  {
   "cell_type": "code",
   "execution_count": 67,
   "metadata": {},
   "outputs": [],
   "source": [
    "# MAIN PROGRAM ---------------------------------------------------------------------------------------------\n",
    "\n",
    "\n",
    "from IPython.display import clear_output # leave clear output to the end\n",
    "import pprint\n",
    "\n",
    "# create global dict with food items and their prices for user to choose from\n",
    "\n",
    "inventory = {\n",
    "    \"Soda\": 0.99,\n",
    "    \"Milk\": 1.99,\n",
    "    \"Chips\": 3.99,\n",
    "    \"Eggs\": 3.99,\n",
    "    \"Bread\": 4.99,\n",
    "    \"Burrito\": 5.99,\n",
    "    \"Candy\": 6.99,\n",
    "    \"Cheese\": 7.99,\n",
    "    \"Beer\": 8.99,\n",
    "    \"Water\": 0.99,\n",
    "    \"Cigarettes\": 10.99,\n",
    "    \"Chocolate\": 3.99,\n",
    "    \"Snack\": 1.99,\n",
    "    \"Cookies\": 3.99,\n",
    "    \"Apples\": 0.99,\n",
    "    \"Oranges\": 0.99,\n",
    "    \"Bananas\": 0.99,\n",
    "}\n",
    "\n",
    "\n",
    "# create empty dict for user shopping cart\n",
    "\n",
    "shopping_cart = {}\n",
    "\n",
    "# while loop to run while user doesnt quit:\n",
    "\n",
    "user_shopping = True\n",
    "\n",
    "#     ask user if they want to ADD/REMOVE/SHOW/QUIT\n",
    "\n",
    "while user_shopping:\n",
    "    \n",
    "#     clear_output()\n",
    "    \n",
    "    # show user the inventory items at start\n",
    "    \n",
    "    choice = input(\"\\nWhat would you like to do? ADD/REMOVE/SHOW/QUIT: \").lower()\n",
    "    \n",
    "    clear_output()\n",
    "\n",
    "    while choice not in ['add', 'remove', 'show', 'quit']:\n",
    "        print(\"\\nSorry, not a valid choice.\")\n",
    "        choice = input(\"\\nWhat would you like to do? ADD/REMOVE/SHOW/QUIT: \").lower()\n",
    "    \n",
    "    print(\"\\nHere is a list of available items to buy and their prices:\\n\")\n",
    "    pprint.pprint(inventory)    \n",
    "        \n",
    "    if choice == 'add':\n",
    "        add_items()\n",
    "\n",
    "    if choice == 'remove':\n",
    "        show_items()\n",
    "        remove_items()\n",
    "\n",
    "    if choice == 'show':\n",
    "        show_items()\n",
    "\n",
    "    if choice == 'quit':\n",
    "        quit()\n",
    "        break # need while loop to work\n",
    "\n",
    "#     clear_output()\n",
    "\n",
    "\n",
    "# CLASSES START ----------------------------------------------------------------------------\n",
    "\n",
    "# Create a class called cart that retains items and has methods to add, remove, and show\n",
    "\n",
    "# class Item: # items basically would be an apple. it has a self.name, price, qty? then you add that item to cart\n",
    "    \n",
    "#     def __init__(self, ):\n",
    "#         pass\n",
    "\n",
    "        \n",
    "class Cart: # think of: list is a Class; str is a class;\n",
    "    \n",
    "# Cart should be able to: add items, remove items, show its items, store items (list/dict)\n",
    "    \n",
    "    def __init__(self, name='', qty_item=0, shopping_cart={}, ): # needs to store basic info? \n",
    "        self.shopping_cart = shopping_cart\n",
    "        self.name = name\n",
    "        self.qty_item = qty_item\n",
    "    \n",
    "    def add_items(self, ): # needs to add items into the Cart object\n",
    "        \n",
    "#         self.self.name = input(\"Which item do you want to add to your cart? \")\n",
    "#         self.qty = input(\"What qty do you want to add for that item? \")\n",
    "#         self.items[self.self.name] = self.qty\n",
    "#         print(f\"{self.qty} of {self.self.name} has been added to your cart. \")\n",
    "\n",
    "        self.name = input(\"\\nWhich item do you want to add: \").capitalize()\n",
    "        while self.name not in inventory:\n",
    "            print('\\nSorry we do not have that item.')\n",
    "            self.name = input(\"\\nWhich item do you want to add: \").capitalize()\n",
    "\n",
    "        while True:\n",
    "            try:\n",
    "                self.qty_item = int(input(f\"\\nWhat quantity of {self.name} do you want: \"))\n",
    "                if self.qty_item < 1:\n",
    "                    print('\\nSorry we need at least a qty of 1.')\n",
    "                    continue\n",
    "                break\n",
    "            except ValueError:\n",
    "                print('\\nSorry we need a number.')\n",
    "\n",
    "        print(self.qty_item)\n",
    "        if self.name not in self.shopping_cart:\n",
    "            self.shopping_cart[self.name] = self.qty_item\n",
    "        else:\n",
    "            prev_qty = self.shopping_cart[self.name]\n",
    "            self.shopping_cart[self.name] = prev_qty + self.qty_item\n",
    "\n",
    "        print(f\"\\nYou added {self.qty_item} of {self.name} to your cart!\") # watch out for local vs global\n",
    "    \n",
    "    def remove_items(self, ): # needs to remove items out of the cart object\n",
    "\n",
    "#         self.self.name = input(\"Which item do you want to remove to your cart? \")\n",
    "#         self.qty = input(\"What qty do you want to remove for that item? \")\n",
    "#         self.items[self.self.name] = self.qty\n",
    "#         print(f\"{self.qty} of {self.self.name} has been removed to your cart. \")\n",
    "\n",
    "        self.name = input(\"\\nWhich item do you want to remove: \").capitalize()\n",
    "        while self.name not in self.shopping_cart:\n",
    "            print('\\nSorry you do not have that item in your cart.')\n",
    "            self.name = input(\"\\nWhich item do you want to remove: \").capitalize()\n",
    "\n",
    "        prev_qty = self.shopping_cart[self.name]\n",
    "\n",
    "        while True:\n",
    "            try:\n",
    "                self.qty_item = int(input(f\"\\nWhat quantity of {self.name} do you want to remove: \"))\n",
    "                if self.qty_item < 1:\n",
    "                    print('\\nSorry we need at least a qty of 1.')\n",
    "                    continue\n",
    "                elif self.qty_item > prev_qty:\n",
    "                    print(f\"\\nSorry you only have {prev_qty} of {self.name} in your cart.\")\n",
    "                    continue\n",
    "                break\n",
    "            except ValueError:\n",
    "                print('\\nSorry we need a number.')\n",
    "\n",
    "        prev_qty = self.shopping_cart[self.name]\n",
    "        self.shopping_cart[self.name] = prev_qty - self.qty_item\n",
    "        if self.shopping_cart[self.name] == 0:\n",
    "            del self.shopping_cart[self.name]\n",
    "        print(f\"\\nYou removed {self.qty_item} of {self.name} from your cart!\") # watch out for local vs global\n",
    "\n",
    "        \n",
    "    \n",
    "    def show_items(self, ): # needs to show the items in the cart object\n",
    "        \n",
    "        clear_output()\n",
    "        total = 0\n",
    "        print(\"\\nHere is your shopping cart: \\n\")\n",
    "        for item, qty in self.shopping_cart.items():\n",
    "            print(f\"\\t{item}:  ${inventory[item]} / each  ---  x {qty}\")\n",
    "            total += inventory[item] * qty\n",
    "        print(f\"\\nTotal pre-tax: ${total:.2f}\")\n",
    "\n",
    "\n",
    "    def quit(self, ):\n",
    "        \n",
    "        clear_output()\n",
    "        total = 0\n",
    "        print(\"\\n\\nThanks for shopping with us today!!\")\n",
    "        print(\"\\n\\nHere's your receipt for today: \\n\")\n",
    "        for item, qty in self.shopping_cart.items():\n",
    "            print(f\"\\t{item}:  ${inventory[item]} / each  ---  x {qty}\")\n",
    "            total += inventory[item] * qty\n",
    "\n",
    "        print(f\"\\nTotal before tax: {total:.2f}\")\n",
    "        total_net = total * 1.08\n",
    "        print(f\"\\n+ Sales tax: ${(total_net - total):.2f}\")\n",
    "        print(f\"\\nTotal: ${total_net:.2f}\\n\")\n",
    "    "
   ]
  },
  {
   "cell_type": "code",
   "execution_count": 70,
   "metadata": {
    "scrolled": true
   },
   "outputs": [
    {
     "name": "stdout",
     "output_type": "stream",
     "text": [
      "\n",
      "\n",
      "Thanks for shopping with us today!!\n",
      "\n",
      "\n",
      "Here's your receipt for today: \n",
      "\n",
      "\tApples:  $0.99 / each  ---  x 5\n",
      "\n",
      "Total before tax: 4.95\n",
      "\n",
      "+ Sales tax: $0.40\n",
      "\n",
      "Total: $5.35\n",
      "\n",
      "{'shopping_cart': {'Apples': 5}, 'name': 'Apples', 'qty_item': 6}\n"
     ]
    }
   ],
   "source": [
    "cart1 = Cart()\n",
    "cart1.add_items()\n",
    "print(cart1.__dict__)\n",
    "cart1.remove_items()\n",
    "print(cart1.__dict__)\n",
    "cart1.show_items()\n",
    "print(cart1.__dict__)\n",
    "cart1.quit()\n",
    "print(cart1.__dict__)"
   ]
  },
  {
   "cell_type": "code",
   "execution_count": null,
   "metadata": {},
   "outputs": [],
   "source": []
  },
  {
   "cell_type": "code",
   "execution_count": null,
   "metadata": {},
   "outputs": [],
   "source": []
  },
  {
   "cell_type": "code",
   "execution_count": 13,
   "metadata": {},
   "outputs": [
    {
     "name": "stdout",
     "output_type": "stream",
     "text": [
      "\n",
      "\n",
      "Thanks for shopping with us today!!\n",
      "\n",
      "\n",
      "Here's your receipt for today: \n",
      "\n",
      "\tMilk:  $1.99 / each  ---  x 5\n",
      "\n",
      "Total before tax: 9.95\n",
      "\n",
      "+ Sales tax: $0.80\n",
      "\n",
      "Total: $10.75\n",
      "\n"
     ]
    }
   ],
   "source": [
    "# ========================================================================================================\n",
    "\n",
    "\n",
    "\n",
    "# fn to SHOW current shopping cart item, qty, price\n",
    "#     def fn with user input SHOW:\n",
    "#         print(shopping cart item name, price, qty)\n",
    "#         print(total)\n",
    "# sample: Cheese:  $0.99 / each  ---  x 4\n",
    "\n",
    "# SHOW ITEMS----------------------------------------------------------------------------------------------------\n",
    "\n",
    "def show_items():\n",
    "    \n",
    "    clear_output()\n",
    "    total = 0\n",
    "    print(\"\\nHere is your shopping cart: \\n\")\n",
    "    for item, qty in shopping_cart.items():\n",
    "        print(f\"\\t{item}:  ${inventory[item]} / each  ---  x {qty}\")\n",
    "        total += inventory[item] * qty\n",
    "    print(f\"\\nTotal pre-tax: ${total:.2f}\")\n",
    "    \n",
    "# QUIT-----------------------------------------------------------------------------------------------------------\n",
    "    \n",
    "def quit():\n",
    "    \n",
    "    clear_output()\n",
    "    total = 0\n",
    "    print(\"\\n\\nThanks for shopping with us today!!\")\n",
    "    print(\"\\n\\nHere's your receipt for today: \\n\")\n",
    "    for item, qty in shopping_cart.items():\n",
    "        print(f\"\\t{item}:  ${inventory[item]} / each  ---  x {qty}\")\n",
    "        total += inventory[item] * qty\n",
    "    \n",
    "    print(f\"\\nTotal before tax: {total:.2f}\")\n",
    "    total_net = total * 1.08\n",
    "    print(f\"\\n+ Sales tax: ${(total_net - total):.2f}\")\n",
    "    print(f\"\\nTotal: ${total_net:.2f}\\n\")\n",
    "    \n",
    "\n",
    "# ADD ITEMS--------------------------------------------------------------------------------------------------------\n",
    "    \n",
    "# fn to ADD item and quantity:\n",
    "#     def fn with user input ADD:\n",
    "#         ask user which item they want to add from above list\n",
    "#         if user item is in dict, add to shopping cart; else keep asking\n",
    "#         ask user qty for that item\n",
    "#         if user qty > 0, add to shopping cart; else keep asking\n",
    "\n",
    "def add_items():\n",
    "    \n",
    "    name = input(\"\\nWhich item do you want to add: \").capitalize()\n",
    "    while name not in inventory:\n",
    "        print('\\nSorry we do not have that item.')\n",
    "        name = input(\"\\nWhich item do you want to add: \").capitalize()\n",
    "    \n",
    "    while True:\n",
    "        try:\n",
    "            qty_item = int(input(f\"\\nWhat quantity of {name} do you want: \"))\n",
    "            if qty_item < 1:\n",
    "                print('\\nSorry we need at least a qty of 1.')\n",
    "                continue\n",
    "            break\n",
    "        except ValueError:\n",
    "            print('\\nSorry we need a number.')\n",
    "            \n",
    "    if name not in shopping_cart:\n",
    "        shopping_cart[name] = qty_item\n",
    "    else:\n",
    "        prev_qty = shopping_cart[name]\n",
    "        shopping_cart[name] = prev_qty + qty_item\n",
    "        \n",
    "    print(f\"\\nYou added {qty_item} of {name} to your cart!\") # watch out for local vs global\n",
    "        \n",
    "\n",
    "        \n",
    "# REMOVE ITEMS ----------------------------------------------------------------------------------------------\n",
    "\n",
    "# fn to REMOVE item and quantity\n",
    "#     def fn with user input REMOVE:\n",
    "#         ask user which item they want to add from above list\n",
    "#         if user item is in dict, add to shopping cart; else keep asking\n",
    "#         ask user qty for that item\n",
    "#         if user qty > 0, add to shopping cart; else keep asking\n",
    "\n",
    "def remove_items():\n",
    "    \n",
    "    name = input(\"\\nWhich item do you want to remove: \").capitalize()\n",
    "    while name not in shopping_cart:\n",
    "        print('\\nSorry you do not have that item in your cart.')\n",
    "        name = input(\"\\nWhich item do you want to remove: \").capitalize()\n",
    "    \n",
    "    prev_qty = shopping_cart[name]\n",
    "    \n",
    "    while True:\n",
    "        try:\n",
    "            qty_item = int(input(f\"\\nWhat quantity of {name} do you want to remove: \"))\n",
    "            if qty_item < 1:\n",
    "                print('\\nSorry we need at least a qty of 1.')\n",
    "                continue\n",
    "            elif qty_item > prev_qty:\n",
    "                print(f\"\\nSorry you only have {prev_qty} of {name} in your cart.\")\n",
    "                continue\n",
    "            break\n",
    "        except ValueError:\n",
    "            print('\\nSorry we need a number.')\n",
    "            \n",
    "    prev_qty = shopping_cart[name]\n",
    "    shopping_cart[name] = prev_qty - qty_item\n",
    "    if shopping_cart[name] == 0:\n",
    "        del shopping_cart[name]\n",
    "    print(f\"\\nYou removed {qty_item} of {name} from your cart!\") # watch out for local vs global\n",
    "\n",
    "    \n",
    "    \n",
    "# MAIN PROGRAM ---------------------------------------------------------------------------------------------\n",
    "\n",
    "\n",
    "from IPython.display import clear_output # leave clear output to the end\n",
    "import pprint\n",
    "\n",
    "# create global dict with food items and their prices for user to choose from\n",
    "\n",
    "inventory = {\n",
    "    \"Soda\": 0.99,\n",
    "    \"Milk\": 1.99,\n",
    "    \"Chips\": 3.99,\n",
    "    \"Eggs\": 3.99,\n",
    "    \"Bread\": 4.99,\n",
    "    \"Burrito\": 5.99,\n",
    "    \"Candy\": 6.99,\n",
    "    \"Cheese\": 7.99,\n",
    "    \"Beer\": 8.99,\n",
    "    \"Water\": 0.99,\n",
    "    \"Cigarettes\": 10.99,\n",
    "    \"Chocolate\": 3.99,\n",
    "    \"Snack\": 1.99,\n",
    "    \"Cookies\": 3.99,\n",
    "    \"Apples\": 0.99,\n",
    "    \"Oranges\": 0.99,\n",
    "    \"Bananas\": 0.99,\n",
    "}\n",
    "\n",
    "\n",
    "# create empty dict for user shopping cart\n",
    "\n",
    "shopping_cart = {}\n",
    "\n",
    "# while loop to run while user doesnt quit:\n",
    "\n",
    "user_shopping = True\n",
    "\n",
    "#     ask user if they want to ADD/REMOVE/SHOW/QUIT\n",
    "\n",
    "while user_shopping:\n",
    "    \n",
    "#     clear_output()\n",
    "    \n",
    "    # show user the inventory items at start\n",
    "    \n",
    "    choice = input(\"\\nWhat would you like to do? ADD/REMOVE/SHOW/QUIT: \").lower()\n",
    "    \n",
    "    clear_output()\n",
    "\n",
    "    while choice not in ['add', 'remove', 'show', 'quit']:\n",
    "        print(\"\\nSorry, not a valid choice.\")\n",
    "        choice = input(\"\\nWhat would you like to do? ADD/REMOVE/SHOW/QUIT: \").lower()\n",
    "    \n",
    "    print(\"\\nHere is a list of available items to buy and their prices:\\n\")\n",
    "    pprint.pprint(inventory)    \n",
    "        \n",
    "    if choice == 'add':\n",
    "        add_items()\n",
    "\n",
    "    if choice == 'remove':\n",
    "        show_items()\n",
    "        remove_items()\n",
    "\n",
    "    if choice == 'show':\n",
    "        show_items()\n",
    "\n",
    "    if choice == 'quit':\n",
    "        quit()\n",
    "        break # need while loop to work\n",
    "\n",
    "#     clear_output()"
   ]
  },
  {
   "cell_type": "markdown",
   "metadata": {},
   "source": [
    "### Exercise 2 - Write a Python class for an Animal that has a name and energy attributes. The animal class should also have methods for eat, sleep, and play that will take in an integer and increase/decrease the energy of the animal with a formatted print statement"
   ]
  },
  {
   "cell_type": "code",
   "execution_count": null,
   "metadata": {},
   "outputs": [],
   "source": [
    "# Example 1\n",
    "# buddy = Animal('Buddy', 10)\n",
    "# buddy.play(5) -> \"Buddy is playing for 5 minutes. His energy is now 5\"\n",
    "# buddy.sleep(10) -> \"Buddy is sleeping for 10 minutes. His energy is now 15\"\n",
    "# buddy.eat(5) -> \"Buddy is eating for 5 minutes. His energy is now 20\""
   ]
  },
  {
   "cell_type": "code",
   "execution_count": 11,
   "metadata": {},
   "outputs": [],
   "source": [
    "# __Init__ attributes:\n",
    "#     name\n",
    "#     energy\n",
    "\n",
    "# fns() attributes:\n",
    "#     eat\n",
    "#     sleep\n",
    "#     play\n",
    "\n",
    "\n",
    "class Animal:\n",
    "    \n",
    "    def __init__(self, name, energy=10):\n",
    "        self.name = name\n",
    "        self.energy = energy\n",
    "        \n",
    "    def eat(self, time=5):\n",
    "        self.energy += time\n",
    "        print(f\"{self.name} is eating for {time} minutes. His energy is now {self.energy}.\")\n",
    "    \n",
    "    def sleep(self, time=5):\n",
    "        self.energy += time\n",
    "        print(f\"{self.name} is sleeping for {time} minutes. His energy is now {self.energy}.\")\n",
    "    \n",
    "    def play(self, time=5):\n",
    "        self.energy -= time\n",
    "        print(f\"{self.name} is playing for {time} minutes. His energy is now {self.energy}.\")"
   ]
  },
  {
   "cell_type": "code",
   "execution_count": 12,
   "metadata": {},
   "outputs": [
    {
     "name": "stdout",
     "output_type": "stream",
     "text": [
      "Shiba is eating for 7 minutes. His energy is now 17.\n",
      "{'name': 'Shiba', 'energy': 17}\n",
      "Shiba is playing for 12 minutes. His energy is now 5.\n",
      "{'name': 'Shiba', 'energy': 5}\n",
      "Shiba is sleeping for 10 minutes. His energy is now 15.\n",
      "{'name': 'Shiba', 'energy': 15}\n",
      "Shiba is playing for 5 minutes. His energy is now 10.\n",
      "{'name': 'Shiba', 'energy': 10}\n"
     ]
    }
   ],
   "source": [
    "dog1 = Animal('Shiba', )\n",
    "\n",
    "dog1.eat(7)\n",
    "print(dog1.__dict__)\n",
    "dog1.play(12)\n",
    "print(dog1.__dict__)\n",
    "dog1.sleep(10)\n",
    "print(dog1.__dict__)\n",
    "dog1.play()\n",
    "print(dog1.__dict__)"
   ]
  }
 ],
 "metadata": {
  "kernelspec": {
   "display_name": "Python 3",
   "language": "python",
   "name": "python3"
  },
  "language_info": {
   "codemirror_mode": {
    "name": "ipython",
    "version": 3
   },
   "file_extension": ".py",
   "mimetype": "text/x-python",
   "name": "python",
   "nbconvert_exporter": "python",
   "pygments_lexer": "ipython3",
   "version": "3.8.3"
  }
 },
 "nbformat": 4,
 "nbformat_minor": 2
}
